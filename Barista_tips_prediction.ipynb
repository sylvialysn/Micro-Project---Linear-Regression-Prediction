{
 "cells": [
  {
   "cell_type": "code",
   "execution_count": 1,
   "metadata": {},
   "outputs": [],
   "source": [
    "import numpy as np\n",
    "import seaborn as sns\n",
    "import pandas as pd\n",
    "import matplotlib.pyplot as plt\n",
    "import statsmodels.api as sm"
   ]
  },
  {
   "cell_type": "markdown",
   "metadata": {},
   "source": [
    "## Mini Projek (Linear Regression)\n",
    "\n",
    "Mini projek ini merupakan prediksi tips yang akan didapatkan seorang barista menggunakan data 'Barista Tips'.\n",
    "Pertama dilakukan pencarian kolom-kolom yang mungkin berkaitan dengan cara melakukan visualisasi scatterplot. Selanjutnya kolom-kolom yang berkaitan akan digunakan untuk memprediksi tips yang didapatkan. "
   ]
  },
  {
   "cell_type": "code",
   "execution_count": 48,
   "metadata": {},
   "outputs": [],
   "source": [
    "barista = pd.read_csv('Barista tips.csv')"
   ]
  },
  {
   "cell_type": "code",
   "execution_count": 54,
   "metadata": {},
   "outputs": [
    {
     "data": {
      "text/html": [
       "<div>\n",
       "<style scoped>\n",
       "    .dataframe tbody tr th:only-of-type {\n",
       "        vertical-align: middle;\n",
       "    }\n",
       "\n",
       "    .dataframe tbody tr th {\n",
       "        vertical-align: top;\n",
       "    }\n",
       "\n",
       "    .dataframe thead th {\n",
       "        text-align: right;\n",
       "    }\n",
       "</style>\n",
       "<table border=\"1\" class=\"dataframe\">\n",
       "  <thead>\n",
       "    <tr style=\"text-align: right;\">\n",
       "      <th></th>\n",
       "      <th>Tips</th>\n",
       "      <th>Day of Week</th>\n",
       "      <th>Hours Worked</th>\n",
       "      <th>Shift Start Time</th>\n",
       "      <th>Shift End Time</th>\n",
       "      <th>Dollar/Hour</th>\n",
       "    </tr>\n",
       "  </thead>\n",
       "  <tbody>\n",
       "    <tr>\n",
       "      <th>0</th>\n",
       "      <td>63</td>\n",
       "      <td>Mon</td>\n",
       "      <td>8</td>\n",
       "      <td>7</td>\n",
       "      <td>15</td>\n",
       "      <td>7.875000</td>\n",
       "    </tr>\n",
       "    <tr>\n",
       "      <th>1</th>\n",
       "      <td>58</td>\n",
       "      <td>Tue</td>\n",
       "      <td>8</td>\n",
       "      <td>7</td>\n",
       "      <td>15</td>\n",
       "      <td>7.250000</td>\n",
       "    </tr>\n",
       "    <tr>\n",
       "      <th>2</th>\n",
       "      <td>28</td>\n",
       "      <td>Wed</td>\n",
       "      <td>6</td>\n",
       "      <td>10</td>\n",
       "      <td>16</td>\n",
       "      <td>4.666667</td>\n",
       "    </tr>\n",
       "    <tr>\n",
       "      <th>3</th>\n",
       "      <td>32</td>\n",
       "      <td>Thu</td>\n",
       "      <td>6</td>\n",
       "      <td>10</td>\n",
       "      <td>16</td>\n",
       "      <td>5.333333</td>\n",
       "    </tr>\n",
       "    <tr>\n",
       "      <th>4</th>\n",
       "      <td>34</td>\n",
       "      <td>Fri</td>\n",
       "      <td>7</td>\n",
       "      <td>9</td>\n",
       "      <td>16</td>\n",
       "      <td>4.857143</td>\n",
       "    </tr>\n",
       "  </tbody>\n",
       "</table>\n",
       "</div>"
      ],
      "text/plain": [
       "   Tips Day of Week  Hours Worked  Shift Start Time  Shift End Time  \\\n",
       "0    63         Mon             8                 7              15   \n",
       "1    58         Tue             8                 7              15   \n",
       "2    28         Wed             6                10              16   \n",
       "3    32         Thu             6                10              16   \n",
       "4    34         Fri             7                 9              16   \n",
       "\n",
       "   Dollar/Hour  \n",
       "0     7.875000  \n",
       "1     7.250000  \n",
       "2     4.666667  \n",
       "3     5.333333  \n",
       "4     4.857143  "
      ]
     },
     "execution_count": 54,
     "metadata": {},
     "output_type": "execute_result"
    }
   ],
   "source": [
    "# Melihat 5 baris pertama\n",
    "barista.head()"
   ]
  },
  {
   "cell_type": "code",
   "execution_count": 50,
   "metadata": {},
   "outputs": [
    {
     "name": "stdout",
     "output_type": "stream",
     "text": [
      "<class 'pandas.core.frame.DataFrame'>\n",
      "RangeIndex: 49 entries, 0 to 48\n",
      "Data columns (total 6 columns):\n",
      " #   Column            Non-Null Count  Dtype  \n",
      "---  ------            --------------  -----  \n",
      " 0   Tips              49 non-null     int64  \n",
      " 1   Day of Week       49 non-null     object \n",
      " 2   Hours Worked      49 non-null     int64  \n",
      " 3   Shift Start Time  49 non-null     int64  \n",
      " 4   Shift End Time    49 non-null     int64  \n",
      " 5   Dollar/Hour       49 non-null     float64\n",
      "dtypes: float64(1), int64(4), object(1)\n",
      "memory usage: 2.4+ KB\n"
     ]
    }
   ],
   "source": [
    "# Melihat jenis data dari setiap kolom\n",
    "barista.info()"
   ]
  },
  {
   "cell_type": "markdown",
   "metadata": {},
   "source": [
    "Terdapat kolom-kolom yaitu : \n",
    "- 1 kolom float ('Dollar/Hour')\n",
    "- 4 kolom integer ('Tips','Shift Start Time','Shift End Time')\n",
    "- 1 kolom objek ('Day of Week')\n",
    "\n",
    "Kolom yang akan diprediksi adalah 'Tips'"
   ]
  },
  {
   "cell_type": "markdown",
   "metadata": {},
   "source": [
    "## Simple EDA"
   ]
  },
  {
   "cell_type": "code",
   "execution_count": 64,
   "metadata": {},
   "outputs": [
    {
     "data": {
      "text/plain": [
       "<Axes: xlabel='Dollar/Hour', ylabel='Tips'>"
      ]
     },
     "execution_count": 64,
     "metadata": {},
     "output_type": "execute_result"
    },
    {
     "data": {
      "image/png": "[encoded data removed]",
      "text/plain": [
       "<Figure size 640x480 with 1 Axes>"
      ]
     },
     "metadata": {},
     "output_type": "display_data"
    }
   ],
   "source": [
    "# Melihat relasi antara Dollar/Hour vs Tips dengan scatterplot\n",
    "sns.scatterplot(data = barista, x = 'Dollar/Hour',y='Tips')"
   ]
  },
  {
   "cell_type": "markdown",
   "metadata": {},
   "source": [
    "Terdapat hubungan positif antara 'Dollar/Hour' dan 'Tips' sehingga 'Dollar/Hour' dapat dipakai untuk melakukan prediksi"
   ]
  },
  {
   "cell_type": "code",
   "execution_count": 63,
   "metadata": {},
   "outputs": [
    {
     "data": {
      "text/plain": [
       "<Axes: xlabel='Hours Worked', ylabel='Tips'>"
      ]
     },
     "execution_count": 63,
     "metadata": {},
     "output_type": "execute_result"
    },
    {
     "data": {
      "image/png": "[encoded data removed]",
      "text/plain": [
       "<Figure size 640x480 with 1 Axes>"
      ]
     },
     "metadata": {},
     "output_type": "display_data"
    }
   ],
   "source": [
    "# Melihat distribusi dan outlier dari Hours worked vs tips dengan boxplot\n",
    "sns.boxplot(data = barista, x = 'Hours Worked',y='Tips')"
   ]
  },
  {
   "cell_type": "markdown",
   "metadata": {},
   "source": [
    "Distribusi data terlihat merata ketika di filter berdasarkan 'Hours Worked'. Terdapat 1 outlier batas bawah pada 6 jam kerja dan 8 jam kerja untuk masing-masing jam."
   ]
  },
  {
   "cell_type": "markdown",
   "metadata": {},
   "source": [
    "## Prediction"
   ]
  },
  {
   "cell_type": "code",
   "execution_count": 53,
   "metadata": {},
   "outputs": [
    {
     "name": "stdout",
     "output_type": "stream",
     "text": [
      "                            OLS Regression Results                            \n",
      "==============================================================================\n",
      "Dep. Variable:                   Tips   R-squared:                       0.998\n",
      "Model:                            OLS   Adj. R-squared:                  0.998\n",
      "Method:                 Least Squares   F-statistic:                     9748.\n",
      "Date:                Mon, 18 Sep 2023   Prob (F-statistic):           3.56e-61\n",
      "Time:                        13:22:23   Log-Likelihood:                -51.629\n",
      "No. Observations:                  49   AIC:                             109.3\n",
      "Df Residuals:                      46   BIC:                             114.9\n",
      "Df Model:                           2                                         \n",
      "Covariance Type:            nonrobust                                         \n",
      "================================================================================\n",
      "                   coef    std err          t      P>|t|      [0.025      0.975]\n",
      "--------------------------------------------------------------------------------\n",
      "const          -40.9150      0.987    -41.458      0.000     -42.902     -38.928\n",
      "Dollar/Hour      7.4746      0.084     89.246      0.000       7.306       7.643\n",
      "Hours Worked     5.5817      0.168     33.128      0.000       5.243       5.921\n",
      "==============================================================================\n",
      "Omnibus:                       12.882   Durbin-Watson:                   1.625\n",
      "Prob(Omnibus):                  0.002   Jarque-Bera (JB):               22.256\n",
      "Skew:                           0.707   Prob(JB):                     1.47e-05\n",
      "Kurtosis:                       5.984   Cond. No.                         87.5\n",
      "==============================================================================\n",
      "\n",
      "Notes:\n",
      "[1] Standard Errors assume that the covariance matrix of the errors is correctly specified.\n"
     ]
    }
   ],
   "source": [
    "# Melakukan prediksi tips dengan regresi linear \n",
    "reg1 = sm.OLS(barista['Tips'], sm.add_constant(barista[['Dollar/Hour','Hours Worked']]))\n",
    "print(reg1.fit().summary())"
   ]
  },
  {
   "cell_type": "markdown",
   "metadata": {},
   "source": [
    "R-squared bernilai 0.998 yang berarti x1, x2 memiliki pengaruh terhadap target (y) yang besar yaitu 99.8%. Selain itu Prob (F-Statistic) bernilai dibawah <0.05 yang berarti Tolak H0 (Ambil H1 yaitu berpengaruh signifikan). \n",
    "Selanjutnya dapat dilihat hasil t-test dari setiap x1,x2,y. Hasil ketiganya dibawah 0.05 yang berarti berpengaruh signifikan sehingga dapat dimasukkan ke dalam persamaan koefisien bersama x1,x2, y.\n",
    "\n",
    "Persamaan tersebut yaitu \n",
    "y = -40.9150+(7.4746\\*X1)+(5.5817\\*X2)"
   ]
  },
  {
   "cell_type": "code",
   "execution_count": 66,
   "metadata": {},
   "outputs": [
    {
     "name": "stdout",
     "output_type": "stream",
     "text": [
      "57.9537\n"
     ]
    }
   ],
   "source": [
    "def model(x1,x2):\n",
    "    Y = -40.9150 +(7.4746*x1)+(5.5817*x2)\n",
    "    return Y\n",
    "\n",
    "print(model(8,7))"
   ]
  },
  {
   "cell_type": "markdown",
   "metadata": {},
   "source": [
    "Hasil prediksi ini menunjukkan jika seorang barista bekerja 7 jam ('Hours worked') dan diberi upah $ 8/jamnya ('Dollar/Hour') maka tips yang akan ia dapatkan sebesar 57.9537"
   ]
  }
 ],
 "metadata": {
  "kernelspec": {
   "display_name": "Python 3",
   "language": "python",
   "name": "python3"
  },
  "language_info": {
   "codemirror_mode": {
    "name": "ipython",
    "version": 3
   },
   "file_extension": ".py",
   "mimetype": "text/x-python",
   "name": "python",
   "nbconvert_exporter": "python",
   "pygments_lexer": "ipython3",
   "version": "3.11.5"
  },
  "orig_nbformat": 4
 },
 "nbformat": 4,
 "nbformat_minor": 2
}
